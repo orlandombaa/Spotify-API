{
 "cells": [
  {
   "cell_type": "markdown",
   "metadata": {
    "collapsed": true,
    "pycharm": {
     "name": "#%% md\n"
    }
   },
   "source": [
    "# Download Spotify data"
   ]
  },
  {
   "cell_type": "markdown",
   "source": [
    "Lectura de librerías"
   ],
   "metadata": {
    "collapsed": false,
    "pycharm": {
     "name": "#%% md\n"
    }
   }
  },
  {
   "cell_type": "code",
   "execution_count": 1,
   "outputs": [],
   "source": [
    "import pandas as pd\n",
    "import spotipy\n",
    "from spotipy.oauth2 import SpotifyClientCredentials"
   ],
   "metadata": {
    "collapsed": false,
    "pycharm": {
     "name": "#%%\n"
    }
   }
  },
  {
   "cell_type": "markdown",
   "source": [
    "Autentificación"
   ],
   "metadata": {
    "collapsed": false,
    "pycharm": {
     "name": "#%% md\n"
    }
   }
  },
  {
   "cell_type": "code",
   "execution_count": 2,
   "outputs": [
    {
     "data": {
      "text/plain": "<spotipy.client.Spotify at 0x186d13dd220>"
     },
     "execution_count": 2,
     "metadata": {},
     "output_type": "execute_result"
    }
   ],
   "source": [
    "client_id= \"8a7ea601ffc2443ab4ee8fc92a44e476\"\n",
    "client_secret = \"9c1a0d7e2c344cbf956b4c09d36fd89b\"\n",
    "\n",
    "client_credentials_manager = SpotifyClientCredentials(client_id= client_id, client_secret=client_secret)\n",
    "\n",
    "spotify = spotipy.Spotify(client_credentials_manager=client_credentials_manager)\n",
    "spotify.trace=False\n",
    "spotify"
   ],
   "metadata": {
    "collapsed": false,
    "pycharm": {
     "name": "#%%\n"
    }
   }
  },
  {
   "cell_type": "markdown",
   "source": [
    "## 1) Descarga de datos"
   ],
   "metadata": {
    "collapsed": false,
    "pycharm": {
     "name": "#%% md\n"
    }
   }
  },
  {
   "cell_type": "markdown",
   "source": [
    "### 1.1) Top escuchadas del artista"
   ],
   "metadata": {
    "collapsed": false,
    "pycharm": {
     "name": "#%% md\n"
    }
   }
  },
  {
   "cell_type": "code",
   "execution_count": 3,
   "outputs": [
    {
     "data": {
      "text/plain": "{'tracks': [{'album': {'album_type': 'album',\n    'artists': [{'external_urls': {'spotify': 'https://open.spotify.com/artist/3CAhiUHkUYT1mFtVHM9SHA'},\n      'href': 'https://api.spotify.com/v1/artists/3CAhiUHkUYT1mFtVHM9SHA',\n      'id': '3CAhiUHkUYT1mFtVHM9SHA',\n      'name': 'Valentín Elizalde',\n      'type': 'artist',\n      'uri': 'spotify:artist:3CAhiUHkUYT1mFtVHM9SHA'}],\n    'external_urls': {'spotify': 'https://open.spotify.com/album/2uJ0YxszsHKfS14kOPmAFl'},\n    'href': 'https://api.spotify.com/v1/albums/2uJ0YxszsHKfS14kOPmAFl',\n    'id': '2uJ0YxszsHKfS14kOPmAFl',\n    'images': [{'height': 640,\n      'url': 'https://i.scdn.co/image/ab67616d0000b2736d9a01223da0f5feaf2adf7a',\n      'width': 640},\n     {'height': 300,\n      'url': 'https://i.scdn.co/image/ab67616d00001e026d9a01223da0f5feaf2adf7a',\n      'width': 300},\n     {'height': 64,\n      'url': 'https://i.scdn.co/image/ab67616d000048516d9a01223da0f5feaf2adf7a',\n      'width': 64}],\n    'name': 'Mi Satisfacción',\n    'release_date': '2003-01-01',\n    'release_date_precision': 'day',\n    'total_tracks': 12,\n    'type': 'album',\n    'uri': 'spotify:album:2uJ0YxszsHKfS14kOPmAFl'},\n   'artists': [{'external_urls': {'spotify': 'https://open.spotify.com/artist/3CAhiUHkUYT1mFtVHM9SHA'},\n     'href': 'https://api.spotify.com/v1/artists/3CAhiUHkUYT1mFtVHM9SHA',\n     'id': '3CAhiUHkUYT1mFtVHM9SHA',\n     'name': 'Valentín Elizalde',\n     'type': 'artist',\n     'uri': 'spotify:artist:3CAhiUHkUYT1mFtVHM9SHA'}],\n   'disc_number': 1,\n   'duration_ms': 157760,\n   'explicit': False,\n   'external_ids': {'isrc': 'MXF110200833'},\n   'external_urls': {'spotify': 'https://open.spotify.com/track/3gqgSM82j6NMAj4Jllr06T'},\n   'href': 'https://api.spotify.com/v1/tracks/3gqgSM82j6NMAj4Jllr06T',\n   'id': '3gqgSM82j6NMAj4Jllr06T',\n   'is_local': False,\n   'is_playable': True,\n   'name': 'Vete Ya',\n   'popularity': 71,\n   'preview_url': None,\n   'track_number': 1,\n   'type': 'track',\n   'uri': 'spotify:track:3gqgSM82j6NMAj4Jllr06T'},\n  {'album': {'album_type': 'album',\n    'artists': [{'external_urls': {'spotify': 'https://open.spotify.com/artist/3CAhiUHkUYT1mFtVHM9SHA'},\n      'href': 'https://api.spotify.com/v1/artists/3CAhiUHkUYT1mFtVHM9SHA',\n      'id': '3CAhiUHkUYT1mFtVHM9SHA',\n      'name': 'Valentín Elizalde',\n      'type': 'artist',\n      'uri': 'spotify:artist:3CAhiUHkUYT1mFtVHM9SHA'}],\n    'external_urls': {'spotify': 'https://open.spotify.com/album/0k0b9mpJt6tJMT26aIzpoe'},\n    'href': 'https://api.spotify.com/v1/albums/0k0b9mpJt6tJMT26aIzpoe',\n    'id': '0k0b9mpJt6tJMT26aIzpoe',\n    'images': [{'height': 640,\n      'url': 'https://i.scdn.co/image/ab67616d0000b273487d1705c18df13c7b8dc742',\n      'width': 640},\n     {'height': 300,\n      'url': 'https://i.scdn.co/image/ab67616d00001e02487d1705c18df13c7b8dc742',\n      'width': 300},\n     {'height': 64,\n      'url': 'https://i.scdn.co/image/ab67616d00004851487d1705c18df13c7b8dc742',\n      'width': 64}],\n    'name': 'Vencedor',\n    'release_date': '2006-01-01',\n    'release_date_precision': 'day',\n    'total_tracks': 14,\n    'type': 'album',\n    'uri': 'spotify:album:0k0b9mpJt6tJMT26aIzpoe'},\n   'artists': [{'external_urls': {'spotify': 'https://open.spotify.com/artist/3CAhiUHkUYT1mFtVHM9SHA'},\n     'href': 'https://api.spotify.com/v1/artists/3CAhiUHkUYT1mFtVHM9SHA',\n     'id': '3CAhiUHkUYT1mFtVHM9SHA',\n     'name': 'Valentín Elizalde',\n     'type': 'artist',\n     'uri': 'spotify:artist:3CAhiUHkUYT1mFtVHM9SHA'}],\n   'disc_number': 1,\n   'duration_ms': 171026,\n   'explicit': False,\n   'external_ids': {'isrc': 'MXUM70600238'},\n   'external_urls': {'spotify': 'https://open.spotify.com/track/7cfpUwXVmVNwi0e0lKkII3'},\n   'href': 'https://api.spotify.com/v1/tracks/7cfpUwXVmVNwi0e0lKkII3',\n   'id': '7cfpUwXVmVNwi0e0lKkII3',\n   'is_local': False,\n   'is_playable': True,\n   'name': 'Te Quiero Así',\n   'popularity': 69,\n   'preview_url': None,\n   'track_number': 1,\n   'type': 'track',\n   'uri': 'spotify:track:7cfpUwXVmVNwi0e0lKkII3'},\n  {'album': {'album_type': 'album',\n    'artists': [{'external_urls': {'spotify': 'https://open.spotify.com/artist/3CAhiUHkUYT1mFtVHM9SHA'},\n      'href': 'https://api.spotify.com/v1/artists/3CAhiUHkUYT1mFtVHM9SHA',\n      'id': '3CAhiUHkUYT1mFtVHM9SHA',\n      'name': 'Valentín Elizalde',\n      'type': 'artist',\n      'uri': 'spotify:artist:3CAhiUHkUYT1mFtVHM9SHA'}],\n    'external_urls': {'spotify': 'https://open.spotify.com/album/0k0b9mpJt6tJMT26aIzpoe'},\n    'href': 'https://api.spotify.com/v1/albums/0k0b9mpJt6tJMT26aIzpoe',\n    'id': '0k0b9mpJt6tJMT26aIzpoe',\n    'images': [{'height': 640,\n      'url': 'https://i.scdn.co/image/ab67616d0000b273487d1705c18df13c7b8dc742',\n      'width': 640},\n     {'height': 300,\n      'url': 'https://i.scdn.co/image/ab67616d00001e02487d1705c18df13c7b8dc742',\n      'width': 300},\n     {'height': 64,\n      'url': 'https://i.scdn.co/image/ab67616d00004851487d1705c18df13c7b8dc742',\n      'width': 64}],\n    'name': 'Vencedor',\n    'release_date': '2006-01-01',\n    'release_date_precision': 'day',\n    'total_tracks': 14,\n    'type': 'album',\n    'uri': 'spotify:album:0k0b9mpJt6tJMT26aIzpoe'},\n   'artists': [{'external_urls': {'spotify': 'https://open.spotify.com/artist/3CAhiUHkUYT1mFtVHM9SHA'},\n     'href': 'https://api.spotify.com/v1/artists/3CAhiUHkUYT1mFtVHM9SHA',\n     'id': '3CAhiUHkUYT1mFtVHM9SHA',\n     'name': 'Valentín Elizalde',\n     'type': 'artist',\n     'uri': 'spotify:artist:3CAhiUHkUYT1mFtVHM9SHA'}],\n   'disc_number': 1,\n   'duration_ms': 183813,\n   'explicit': False,\n   'external_ids': {'isrc': 'MXUM70600239'},\n   'external_urls': {'spotify': 'https://open.spotify.com/track/0rRxqhX6w0IWTFSzzRFSOo'},\n   'href': 'https://api.spotify.com/v1/tracks/0rRxqhX6w0IWTFSzzRFSOo',\n   'id': '0rRxqhX6w0IWTFSzzRFSOo',\n   'is_local': False,\n   'is_playable': True,\n   'name': 'A Mis Enemigos',\n   'popularity': 67,\n   'preview_url': None,\n   'track_number': 4,\n   'type': 'track',\n   'uri': 'spotify:track:0rRxqhX6w0IWTFSzzRFSOo'},\n  {'album': {'album_type': 'album',\n    'artists': [{'external_urls': {'spotify': 'https://open.spotify.com/artist/3CAhiUHkUYT1mFtVHM9SHA'},\n      'href': 'https://api.spotify.com/v1/artists/3CAhiUHkUYT1mFtVHM9SHA',\n      'id': '3CAhiUHkUYT1mFtVHM9SHA',\n      'name': 'Valentín Elizalde',\n      'type': 'artist',\n      'uri': 'spotify:artist:3CAhiUHkUYT1mFtVHM9SHA'}],\n    'external_urls': {'spotify': 'https://open.spotify.com/album/0k0b9mpJt6tJMT26aIzpoe'},\n    'href': 'https://api.spotify.com/v1/albums/0k0b9mpJt6tJMT26aIzpoe',\n    'id': '0k0b9mpJt6tJMT26aIzpoe',\n    'images': [{'height': 640,\n      'url': 'https://i.scdn.co/image/ab67616d0000b273487d1705c18df13c7b8dc742',\n      'width': 640},\n     {'height': 300,\n      'url': 'https://i.scdn.co/image/ab67616d00001e02487d1705c18df13c7b8dc742',\n      'width': 300},\n     {'height': 64,\n      'url': 'https://i.scdn.co/image/ab67616d00004851487d1705c18df13c7b8dc742',\n      'width': 64}],\n    'name': 'Vencedor',\n    'release_date': '2006-01-01',\n    'release_date_precision': 'day',\n    'total_tracks': 14,\n    'type': 'album',\n    'uri': 'spotify:album:0k0b9mpJt6tJMT26aIzpoe'},\n   'artists': [{'external_urls': {'spotify': 'https://open.spotify.com/artist/3CAhiUHkUYT1mFtVHM9SHA'},\n     'href': 'https://api.spotify.com/v1/artists/3CAhiUHkUYT1mFtVHM9SHA',\n     'id': '3CAhiUHkUYT1mFtVHM9SHA',\n     'name': 'Valentín Elizalde',\n     'type': 'artist',\n     'uri': 'spotify:artist:3CAhiUHkUYT1mFtVHM9SHA'}],\n   'disc_number': 1,\n   'duration_ms': 183826,\n   'explicit': False,\n   'external_ids': {'isrc': 'MXUM70600240'},\n   'external_urls': {'spotify': 'https://open.spotify.com/track/6tcCTb903f89qDO3ylbhEN'},\n   'href': 'https://api.spotify.com/v1/tracks/6tcCTb903f89qDO3ylbhEN',\n   'id': '6tcCTb903f89qDO3ylbhEN',\n   'is_local': False,\n   'is_playable': True,\n   'name': 'Vencedor',\n   'popularity': 66,\n   'preview_url': None,\n   'track_number': 6,\n   'type': 'track',\n   'uri': 'spotify:track:6tcCTb903f89qDO3ylbhEN'},\n  {'album': {'album_type': 'album',\n    'artists': [{'external_urls': {'spotify': 'https://open.spotify.com/artist/3CAhiUHkUYT1mFtVHM9SHA'},\n      'href': 'https://api.spotify.com/v1/artists/3CAhiUHkUYT1mFtVHM9SHA',\n      'id': '3CAhiUHkUYT1mFtVHM9SHA',\n      'name': 'Valentín Elizalde',\n      'type': 'artist',\n      'uri': 'spotify:artist:3CAhiUHkUYT1mFtVHM9SHA'}],\n    'external_urls': {'spotify': 'https://open.spotify.com/album/6VMGPpuRXzVUb2zwZjhJ4h'},\n    'href': 'https://api.spotify.com/v1/albums/6VMGPpuRXzVUb2zwZjhJ4h',\n    'id': '6VMGPpuRXzVUb2zwZjhJ4h',\n    'images': [{'height': 640,\n      'url': 'https://i.scdn.co/image/ab67616d0000b27370048b13fbea2747c60acedd',\n      'width': 640},\n     {'height': 300,\n      'url': 'https://i.scdn.co/image/ab67616d00001e0270048b13fbea2747c60acedd',\n      'width': 300},\n     {'height': 64,\n      'url': 'https://i.scdn.co/image/ab67616d0000485170048b13fbea2747c60acedd',\n      'width': 64}],\n    'name': 'Volveré a Amar',\n    'release_date': '2004-01-01',\n    'release_date_precision': 'day',\n    'total_tracks': 13,\n    'type': 'album',\n    'uri': 'spotify:album:6VMGPpuRXzVUb2zwZjhJ4h'},\n   'artists': [{'external_urls': {'spotify': 'https://open.spotify.com/artist/3CAhiUHkUYT1mFtVHM9SHA'},\n     'href': 'https://api.spotify.com/v1/artists/3CAhiUHkUYT1mFtVHM9SHA',\n     'id': '3CAhiUHkUYT1mFtVHM9SHA',\n     'name': 'Valentín Elizalde',\n     'type': 'artist',\n     'uri': 'spotify:artist:3CAhiUHkUYT1mFtVHM9SHA'}],\n   'disc_number': 1,\n   'duration_ms': 231160,\n   'explicit': False,\n   'external_ids': {'isrc': 'MXF110400068'},\n   'external_urls': {'spotify': 'https://open.spotify.com/track/5QFuPzUEkWsTszwYyswsbB'},\n   'href': 'https://api.spotify.com/v1/tracks/5QFuPzUEkWsTszwYyswsbB',\n   'id': '5QFuPzUEkWsTszwYyswsbB',\n   'is_local': False,\n   'is_playable': True,\n   'name': 'Volvere A Amar',\n   'popularity': 66,\n   'preview_url': None,\n   'track_number': 7,\n   'type': 'track',\n   'uri': 'spotify:track:5QFuPzUEkWsTszwYyswsbB'},\n  {'album': {'album_type': 'album',\n    'artists': [{'external_urls': {'spotify': 'https://open.spotify.com/artist/3CAhiUHkUYT1mFtVHM9SHA'},\n      'href': 'https://api.spotify.com/v1/artists/3CAhiUHkUYT1mFtVHM9SHA',\n      'id': '3CAhiUHkUYT1mFtVHM9SHA',\n      'name': 'Valentín Elizalde',\n      'type': 'artist',\n      'uri': 'spotify:artist:3CAhiUHkUYT1mFtVHM9SHA'}],\n    'external_urls': {'spotify': 'https://open.spotify.com/album/3p21ve9Pt5hSPIZyR0371G'},\n    'href': 'https://api.spotify.com/v1/albums/3p21ve9Pt5hSPIZyR0371G',\n    'id': '3p21ve9Pt5hSPIZyR0371G',\n    'images': [{'height': 640,\n      'url': 'https://i.scdn.co/image/ab67616d0000b2738013f079e505362c18a8291e',\n      'width': 640},\n     {'height': 300,\n      'url': 'https://i.scdn.co/image/ab67616d00001e028013f079e505362c18a8291e',\n      'width': 300},\n     {'height': 64,\n      'url': 'https://i.scdn.co/image/ab67616d000048518013f079e505362c18a8291e',\n      'width': 64}],\n    'name': 'Lo Más Escuchado De',\n    'release_date': '2019-07-19',\n    'release_date_precision': 'day',\n    'total_tracks': 20,\n    'type': 'album',\n    'uri': 'spotify:album:3p21ve9Pt5hSPIZyR0371G'},\n   'artists': [{'external_urls': {'spotify': 'https://open.spotify.com/artist/3CAhiUHkUYT1mFtVHM9SHA'},\n     'href': 'https://api.spotify.com/v1/artists/3CAhiUHkUYT1mFtVHM9SHA',\n     'id': '3CAhiUHkUYT1mFtVHM9SHA',\n     'name': 'Valentín Elizalde',\n     'type': 'artist',\n     'uri': 'spotify:artist:3CAhiUHkUYT1mFtVHM9SHA'}],\n   'disc_number': 1,\n   'duration_ms': 167533,\n   'explicit': False,\n   'external_ids': {'isrc': 'MXUM70601913'},\n   'external_urls': {'spotify': 'https://open.spotify.com/track/13mJJQG0dCvVcunQ4sVFjr'},\n   'href': 'https://api.spotify.com/v1/tracks/13mJJQG0dCvVcunQ4sVFjr',\n   'id': '13mJJQG0dCvVcunQ4sVFjr',\n   'is_local': False,\n   'is_playable': True,\n   'name': 'Ebrio De Amor',\n   'popularity': 54,\n   'preview_url': None,\n   'track_number': 13,\n   'type': 'track',\n   'uri': 'spotify:track:13mJJQG0dCvVcunQ4sVFjr'},\n  {'album': {'album_type': 'album',\n    'artists': [{'external_urls': {'spotify': 'https://open.spotify.com/artist/3CAhiUHkUYT1mFtVHM9SHA'},\n      'href': 'https://api.spotify.com/v1/artists/3CAhiUHkUYT1mFtVHM9SHA',\n      'id': '3CAhiUHkUYT1mFtVHM9SHA',\n      'name': 'Valentín Elizalde',\n      'type': 'artist',\n      'uri': 'spotify:artist:3CAhiUHkUYT1mFtVHM9SHA'}],\n    'external_urls': {'spotify': 'https://open.spotify.com/album/6VMGPpuRXzVUb2zwZjhJ4h'},\n    'href': 'https://api.spotify.com/v1/albums/6VMGPpuRXzVUb2zwZjhJ4h',\n    'id': '6VMGPpuRXzVUb2zwZjhJ4h',\n    'images': [{'height': 640,\n      'url': 'https://i.scdn.co/image/ab67616d0000b27370048b13fbea2747c60acedd',\n      'width': 640},\n     {'height': 300,\n      'url': 'https://i.scdn.co/image/ab67616d00001e0270048b13fbea2747c60acedd',\n      'width': 300},\n     {'height': 64,\n      'url': 'https://i.scdn.co/image/ab67616d0000485170048b13fbea2747c60acedd',\n      'width': 64}],\n    'name': 'Volveré a Amar',\n    'release_date': '2004-01-01',\n    'release_date_precision': 'day',\n    'total_tracks': 13,\n    'type': 'album',\n    'uri': 'spotify:album:6VMGPpuRXzVUb2zwZjhJ4h'},\n   'artists': [{'external_urls': {'spotify': 'https://open.spotify.com/artist/3CAhiUHkUYT1mFtVHM9SHA'},\n     'href': 'https://api.spotify.com/v1/artists/3CAhiUHkUYT1mFtVHM9SHA',\n     'id': '3CAhiUHkUYT1mFtVHM9SHA',\n     'name': 'Valentín Elizalde',\n     'type': 'artist',\n     'uri': 'spotify:artist:3CAhiUHkUYT1mFtVHM9SHA'}],\n   'disc_number': 1,\n   'duration_ms': 177440,\n   'explicit': False,\n   'external_ids': {'isrc': 'MXF110400057'},\n   'external_urls': {'spotify': 'https://open.spotify.com/track/3KvOyxyr3g0OoxuMc0iXUi'},\n   'href': 'https://api.spotify.com/v1/tracks/3KvOyxyr3g0OoxuMc0iXUi',\n   'id': '3KvOyxyr3g0OoxuMc0iXUi',\n   'is_local': False,\n   'is_playable': True,\n   'name': 'La Más Deseada',\n   'popularity': 64,\n   'preview_url': None,\n   'track_number': 2,\n   'type': 'track',\n   'uri': 'spotify:track:3KvOyxyr3g0OoxuMc0iXUi'},\n  {'album': {'album_type': 'album',\n    'artists': [{'external_urls': {'spotify': 'https://open.spotify.com/artist/3CAhiUHkUYT1mFtVHM9SHA'},\n      'href': 'https://api.spotify.com/v1/artists/3CAhiUHkUYT1mFtVHM9SHA',\n      'id': '3CAhiUHkUYT1mFtVHM9SHA',\n      'name': 'Valentín Elizalde',\n      'type': 'artist',\n      'uri': 'spotify:artist:3CAhiUHkUYT1mFtVHM9SHA'}],\n    'external_urls': {'spotify': 'https://open.spotify.com/album/3zLqP9HFFRT6uEI0kOLuNP'},\n    'href': 'https://api.spotify.com/v1/albums/3zLqP9HFFRT6uEI0kOLuNP',\n    'id': '3zLqP9HFFRT6uEI0kOLuNP',\n    'images': [{'height': 640,\n      'url': 'https://i.scdn.co/image/ab67616d0000b273f594df07b3381e7adca058b9',\n      'width': 640},\n     {'height': 300,\n      'url': 'https://i.scdn.co/image/ab67616d00001e02f594df07b3381e7adca058b9',\n      'width': 300},\n     {'height': 64,\n      'url': 'https://i.scdn.co/image/ab67616d00004851f594df07b3381e7adca058b9',\n      'width': 64}],\n    'name': 'Lobo Domesticado',\n    'release_date': '2006-01-01',\n    'release_date_precision': 'day',\n    'total_tracks': 10,\n    'type': 'album',\n    'uri': 'spotify:album:3zLqP9HFFRT6uEI0kOLuNP'},\n   'artists': [{'external_urls': {'spotify': 'https://open.spotify.com/artist/3CAhiUHkUYT1mFtVHM9SHA'},\n     'href': 'https://api.spotify.com/v1/artists/3CAhiUHkUYT1mFtVHM9SHA',\n     'id': '3CAhiUHkUYT1mFtVHM9SHA',\n     'name': 'Valentín Elizalde',\n     'type': 'artist',\n     'uri': 'spotify:artist:3CAhiUHkUYT1mFtVHM9SHA'}],\n   'disc_number': 1,\n   'duration_ms': 170440,\n   'explicit': False,\n   'external_ids': {'isrc': 'MXUM70601940'},\n   'external_urls': {'spotify': 'https://open.spotify.com/track/21dO2n3oshsn3FkbB6Y5Mm'},\n   'href': 'https://api.spotify.com/v1/tracks/21dO2n3oshsn3FkbB6Y5Mm',\n   'id': '21dO2n3oshsn3FkbB6Y5Mm',\n   'is_local': False,\n   'is_playable': True,\n   'name': 'Lobo Domesticado',\n   'popularity': 63,\n   'preview_url': None,\n   'track_number': 1,\n   'type': 'track',\n   'uri': 'spotify:track:21dO2n3oshsn3FkbB6Y5Mm'},\n  {'album': {'album_type': 'album',\n    'artists': [{'external_urls': {'spotify': 'https://open.spotify.com/artist/3CAhiUHkUYT1mFtVHM9SHA'},\n      'href': 'https://api.spotify.com/v1/artists/3CAhiUHkUYT1mFtVHM9SHA',\n      'id': '3CAhiUHkUYT1mFtVHM9SHA',\n      'name': 'Valentín Elizalde',\n      'type': 'artist',\n      'uri': 'spotify:artist:3CAhiUHkUYT1mFtVHM9SHA'}],\n    'external_urls': {'spotify': 'https://open.spotify.com/album/4SrvbBpwiAJf09kK7EvQsk'},\n    'href': 'https://api.spotify.com/v1/albums/4SrvbBpwiAJf09kK7EvQsk',\n    'id': '4SrvbBpwiAJf09kK7EvQsk',\n    'images': [{'height': 640,\n      'url': 'https://i.scdn.co/image/ab67616d0000b27321f89bec5a0da72d53308439',\n      'width': 640},\n     {'height': 300,\n      'url': 'https://i.scdn.co/image/ab67616d00001e0221f89bec5a0da72d53308439',\n      'width': 300},\n     {'height': 64,\n      'url': 'https://i.scdn.co/image/ab67616d0000485121f89bec5a0da72d53308439',\n      'width': 64}],\n    'name': 'Soy Así',\n    'release_date': '2005-01-01',\n    'release_date_precision': 'day',\n    'total_tracks': 14,\n    'type': 'album',\n    'uri': 'spotify:album:4SrvbBpwiAJf09kK7EvQsk'},\n   'artists': [{'external_urls': {'spotify': 'https://open.spotify.com/artist/3CAhiUHkUYT1mFtVHM9SHA'},\n     'href': 'https://api.spotify.com/v1/artists/3CAhiUHkUYT1mFtVHM9SHA',\n     'id': '3CAhiUHkUYT1mFtVHM9SHA',\n     'name': 'Valentín Elizalde',\n     'type': 'artist',\n     'uri': 'spotify:artist:3CAhiUHkUYT1mFtVHM9SHA'}],\n   'disc_number': 1,\n   'duration_ms': 215373,\n   'explicit': False,\n   'external_ids': {'isrc': 'MXF110500087'},\n   'external_urls': {'spotify': 'https://open.spotify.com/track/5O4eVNx9CpTxGLoyLmqn7P'},\n   'href': 'https://api.spotify.com/v1/tracks/5O4eVNx9CpTxGLoyLmqn7P',\n   'id': '5O4eVNx9CpTxGLoyLmqn7P',\n   'is_local': False,\n   'is_playable': True,\n   'name': 'Soy Así',\n   'popularity': 62,\n   'preview_url': None,\n   'track_number': 2,\n   'type': 'track',\n   'uri': 'spotify:track:5O4eVNx9CpTxGLoyLmqn7P'},\n  {'album': {'album_type': 'album',\n    'artists': [{'external_urls': {'spotify': 'https://open.spotify.com/artist/3CAhiUHkUYT1mFtVHM9SHA'},\n      'href': 'https://api.spotify.com/v1/artists/3CAhiUHkUYT1mFtVHM9SHA',\n      'id': '3CAhiUHkUYT1mFtVHM9SHA',\n      'name': 'Valentín Elizalde',\n      'type': 'artist',\n      'uri': 'spotify:artist:3CAhiUHkUYT1mFtVHM9SHA'}],\n    'external_urls': {'spotify': 'https://open.spotify.com/album/59xpl8GLkPx7p6cuEVrZ8L'},\n    'href': 'https://api.spotify.com/v1/albums/59xpl8GLkPx7p6cuEVrZ8L',\n    'id': '59xpl8GLkPx7p6cuEVrZ8L',\n    'images': [{'height': 640,\n      'url': 'https://i.scdn.co/image/ab67616d0000b273f746d701589c0693662d6887',\n      'width': 640},\n     {'height': 300,\n      'url': 'https://i.scdn.co/image/ab67616d00001e02f746d701589c0693662d6887',\n      'width': 300},\n     {'height': 64,\n      'url': 'https://i.scdn.co/image/ab67616d00004851f746d701589c0693662d6887',\n      'width': 64}],\n    'name': 'Valentin Elizalde En Vivo',\n    'release_date': '2002-01-01',\n    'release_date_precision': 'day',\n    'total_tracks': 21,\n    'type': 'album',\n    'uri': 'spotify:album:59xpl8GLkPx7p6cuEVrZ8L'},\n   'artists': [{'external_urls': {'spotify': 'https://open.spotify.com/artist/3CAhiUHkUYT1mFtVHM9SHA'},\n     'href': 'https://api.spotify.com/v1/artists/3CAhiUHkUYT1mFtVHM9SHA',\n     'id': '3CAhiUHkUYT1mFtVHM9SHA',\n     'name': 'Valentín Elizalde',\n     'type': 'artist',\n     'uri': 'spotify:artist:3CAhiUHkUYT1mFtVHM9SHA'}],\n   'disc_number': 1,\n   'duration_ms': 239120,\n   'explicit': False,\n   'external_ids': {'isrc': 'MXF110200618'},\n   'external_urls': {'spotify': 'https://open.spotify.com/track/6HH26pfSrXhOvF7Tvy75R5'},\n   'href': 'https://api.spotify.com/v1/tracks/6HH26pfSrXhOvF7Tvy75R5',\n   'id': '6HH26pfSrXhOvF7Tvy75R5',\n   'is_local': False,\n   'is_playable': True,\n   'name': 'El Pavido Navido - En Vivo Desde Delfos, Guadalajara/2002',\n   'popularity': 60,\n   'preview_url': None,\n   'track_number': 7,\n   'type': 'track',\n   'uri': 'spotify:track:6HH26pfSrXhOvF7Tvy75R5'}]}"
     },
     "execution_count": 3,
     "metadata": {},
     "output_type": "execute_result"
    }
   ],
   "source": [
    "# URL del artirusa\n",
    "artista = 'https://open.spotify.com/artist/3CAhiUHkUYT1mFtVHM9SHA?si=q7wwfc2zTMG-RSOoxkv5aQ'\n",
    "\n",
    "# Query\n",
    "results = spotify.artist_top_tracks(artist_id=artista)\n",
    "results"
   ],
   "metadata": {
    "collapsed": false,
    "pycharm": {
     "name": "#%%\n"
    }
   }
  },
  {
   "cell_type": "markdown",
   "source": [
    "Visualización top 10 escuchadas"
   ],
   "metadata": {
    "collapsed": false,
    "pycharm": {
     "name": "#%% md\n"
    }
   }
  },
  {
   "cell_type": "code",
   "execution_count": 4,
   "outputs": [
    {
     "data": {
      "text/plain": "  Nombre del artista           Nombre del album Fecha de lanzamiento  \\\n0  Valentín Elizalde            Mi Satisfacción           2003-01-01   \n1  Valentín Elizalde                   Vencedor           2006-01-01   \n2  Valentín Elizalde                   Vencedor           2006-01-01   \n3  Valentín Elizalde                   Vencedor           2006-01-01   \n4  Valentín Elizalde             Volveré a Amar           2004-01-01   \n5  Valentín Elizalde        Lo Más Escuchado De           2019-07-19   \n6  Valentín Elizalde             Volveré a Amar           2004-01-01   \n7  Valentín Elizalde           Lobo Domesticado           2006-01-01   \n8  Valentín Elizalde                    Soy Así           2005-01-01   \n9  Valentín Elizalde  Valentin Elizalde En Vivo           2002-01-01   \n\n  Total de tracks                               Nombre de la cancion  \\\n0              12                                            Vete Ya   \n1              14                                      Te Quiero Así   \n2              14                                     A Mis Enemigos   \n3              14                                           Vencedor   \n4              13                                     Volvere A Amar   \n5              20                                      Ebrio De Amor   \n6              13                                     La Más Deseada   \n7              10                                   Lobo Domesticado   \n8              14                                            Soy Así   \n9              21  El Pavido Navido - En Vivo Desde Delfos, Guada...   \n\n   duracion Popularidad                      ID  \n0   157.760          71  3gqgSM82j6NMAj4Jllr06T  \n1   171.026          69  7cfpUwXVmVNwi0e0lKkII3  \n2   183.813          67  0rRxqhX6w0IWTFSzzRFSOo  \n3   183.826          66  6tcCTb903f89qDO3ylbhEN  \n4   231.160          66  5QFuPzUEkWsTszwYyswsbB  \n5   167.533          54  13mJJQG0dCvVcunQ4sVFjr  \n6   177.440          64  3KvOyxyr3g0OoxuMc0iXUi  \n7   170.440          63  21dO2n3oshsn3FkbB6Y5Mm  \n8   215.373          62  5O4eVNx9CpTxGLoyLmqn7P  \n9   239.120          60  6HH26pfSrXhOvF7Tvy75R5  ",
      "text/html": "<div>\n<style scoped>\n    .dataframe tbody tr th:only-of-type {\n        vertical-align: middle;\n    }\n\n    .dataframe tbody tr th {\n        vertical-align: top;\n    }\n\n    .dataframe thead th {\n        text-align: right;\n    }\n</style>\n<table border=\"1\" class=\"dataframe\">\n  <thead>\n    <tr style=\"text-align: right;\">\n      <th></th>\n      <th>Nombre del artista</th>\n      <th>Nombre del album</th>\n      <th>Fecha de lanzamiento</th>\n      <th>Total de tracks</th>\n      <th>Nombre de la cancion</th>\n      <th>duracion</th>\n      <th>Popularidad</th>\n      <th>ID</th>\n    </tr>\n  </thead>\n  <tbody>\n    <tr>\n      <th>0</th>\n      <td>Valentín Elizalde</td>\n      <td>Mi Satisfacción</td>\n      <td>2003-01-01</td>\n      <td>12</td>\n      <td>Vete Ya</td>\n      <td>157.760</td>\n      <td>71</td>\n      <td>3gqgSM82j6NMAj4Jllr06T</td>\n    </tr>\n    <tr>\n      <th>1</th>\n      <td>Valentín Elizalde</td>\n      <td>Vencedor</td>\n      <td>2006-01-01</td>\n      <td>14</td>\n      <td>Te Quiero Así</td>\n      <td>171.026</td>\n      <td>69</td>\n      <td>7cfpUwXVmVNwi0e0lKkII3</td>\n    </tr>\n    <tr>\n      <th>2</th>\n      <td>Valentín Elizalde</td>\n      <td>Vencedor</td>\n      <td>2006-01-01</td>\n      <td>14</td>\n      <td>A Mis Enemigos</td>\n      <td>183.813</td>\n      <td>67</td>\n      <td>0rRxqhX6w0IWTFSzzRFSOo</td>\n    </tr>\n    <tr>\n      <th>3</th>\n      <td>Valentín Elizalde</td>\n      <td>Vencedor</td>\n      <td>2006-01-01</td>\n      <td>14</td>\n      <td>Vencedor</td>\n      <td>183.826</td>\n      <td>66</td>\n      <td>6tcCTb903f89qDO3ylbhEN</td>\n    </tr>\n    <tr>\n      <th>4</th>\n      <td>Valentín Elizalde</td>\n      <td>Volveré a Amar</td>\n      <td>2004-01-01</td>\n      <td>13</td>\n      <td>Volvere A Amar</td>\n      <td>231.160</td>\n      <td>66</td>\n      <td>5QFuPzUEkWsTszwYyswsbB</td>\n    </tr>\n    <tr>\n      <th>5</th>\n      <td>Valentín Elizalde</td>\n      <td>Lo Más Escuchado De</td>\n      <td>2019-07-19</td>\n      <td>20</td>\n      <td>Ebrio De Amor</td>\n      <td>167.533</td>\n      <td>54</td>\n      <td>13mJJQG0dCvVcunQ4sVFjr</td>\n    </tr>\n    <tr>\n      <th>6</th>\n      <td>Valentín Elizalde</td>\n      <td>Volveré a Amar</td>\n      <td>2004-01-01</td>\n      <td>13</td>\n      <td>La Más Deseada</td>\n      <td>177.440</td>\n      <td>64</td>\n      <td>3KvOyxyr3g0OoxuMc0iXUi</td>\n    </tr>\n    <tr>\n      <th>7</th>\n      <td>Valentín Elizalde</td>\n      <td>Lobo Domesticado</td>\n      <td>2006-01-01</td>\n      <td>10</td>\n      <td>Lobo Domesticado</td>\n      <td>170.440</td>\n      <td>63</td>\n      <td>21dO2n3oshsn3FkbB6Y5Mm</td>\n    </tr>\n    <tr>\n      <th>8</th>\n      <td>Valentín Elizalde</td>\n      <td>Soy Así</td>\n      <td>2005-01-01</td>\n      <td>14</td>\n      <td>Soy Así</td>\n      <td>215.373</td>\n      <td>62</td>\n      <td>5O4eVNx9CpTxGLoyLmqn7P</td>\n    </tr>\n    <tr>\n      <th>9</th>\n      <td>Valentín Elizalde</td>\n      <td>Valentin Elizalde En Vivo</td>\n      <td>2002-01-01</td>\n      <td>21</td>\n      <td>El Pavido Navido - En Vivo Desde Delfos, Guada...</td>\n      <td>239.120</td>\n      <td>60</td>\n      <td>6HH26pfSrXhOvF7Tvy75R5</td>\n    </tr>\n  </tbody>\n</table>\n</div>"
     },
     "execution_count": 4,
     "metadata": {},
     "output_type": "execute_result"
    }
   ],
   "source": [
    "# Creación de un DF vacío\n",
    "top_escuchadas  = pd.DataFrame(columns=[\"Nombre del artista\", \"Nombre del album\", \"Fecha de lanzamiento\", \"Total de tracks\",\n",
    "                                        \"Nombre de la cancion\", \"duracion\", \"Popularidad\", \"ID\"])\n",
    "single = top_escuchadas.copy()\n",
    "\n",
    "\n",
    "for i in range(0,10):\n",
    "    # Integración de los datos\n",
    "    single[\"Nombre del artista\"] = [results[\"tracks\"][i][\"artists\"][0][\"name\"]]\n",
    "    single[\"Nombre del album\"] = [results[\"tracks\"][i][\"album\"][\"name\"]]\n",
    "    single[\"Fecha de lanzamiento\"] = [results[\"tracks\"][i][\"album\"][\"release_date\"]]\n",
    "    single[\"Total de tracks\"] = [results[\"tracks\"][i][\"album\"][\"total_tracks\"]]\n",
    "    single[\"Nombre de la cancion\"] = [results[\"tracks\"][i][\"name\"]]\n",
    "    single[\"duracion\"] = [results[\"tracks\"][i][\"duration_ms\"]]\n",
    "    single[\"duracion\"] = single [\"duracion\"]/1000\n",
    "    single[\"Popularidad\"] =  [results[\"tracks\"][i][\"popularity\"]]\n",
    "    single[\"ID\"] =[results[\"tracks\"][i][\"id\"]]\n",
    "\n",
    "\n",
    "    #Concatenación\n",
    "    top_escuchadas = pd.concat([top_escuchadas, single], axis=0, ignore_index=True) #Recordemos axis = 0 es filas\n",
    "\n",
    "top_escuchadas"
   ],
   "metadata": {
    "collapsed": false,
    "pycharm": {
     "name": "#%%\n"
    }
   }
  },
  {
   "cell_type": "code",
   "execution_count": null,
   "outputs": [],
   "source": [],
   "metadata": {
    "collapsed": false,
    "pycharm": {
     "name": "#%%\n"
    }
   }
  },
  {
   "cell_type": "code",
   "execution_count": null,
   "outputs": [],
   "source": [],
   "metadata": {
    "collapsed": false,
    "pycharm": {
     "name": "#%%\n"
    }
   }
  },
  {
   "cell_type": "code",
   "execution_count": null,
   "outputs": [],
   "source": [],
   "metadata": {
    "collapsed": false,
    "pycharm": {
     "name": "#%%\n"
    }
   }
  },
  {
   "cell_type": "code",
   "execution_count": null,
   "outputs": [],
   "source": [],
   "metadata": {
    "collapsed": false,
    "pycharm": {
     "name": "#%%\n"
    }
   }
  }
 ],
 "metadata": {
  "kernelspec": {
   "display_name": "Python 3",
   "language": "python",
   "name": "python3"
  },
  "language_info": {
   "codemirror_mode": {
    "name": "ipython",
    "version": 2
   },
   "file_extension": ".py",
   "mimetype": "text/x-python",
   "name": "python",
   "nbconvert_exporter": "python",
   "pygments_lexer": "ipython2",
   "version": "2.7.6"
  }
 },
 "nbformat": 4,
 "nbformat_minor": 0
}